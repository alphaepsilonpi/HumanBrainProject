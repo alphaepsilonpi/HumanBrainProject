{
 "cells": [
  {
   "cell_type": "code",
   "execution_count": 1,
   "metadata": {},
   "outputs": [],
   "source": [
    "import numpy as np\n",
    "import pandas as pd\n",
    "from scipy.stats import norm"
   ]
  },
  {
   "cell_type": "code",
   "execution_count": 2,
   "metadata": {},
   "outputs": [],
   "source": [
    "def black_scholes(S, K, T, r, sigma, option_type='call'):\n",
    "    \"\"\"\n",
    "    Calculate the Black-Scholes option price.\n",
    "\n",
    "    Parameters:\n",
    "        S (float): Current stock price\n",
    "        K (float): Strike price\n",
    "        T (float): Time to maturity (in years)\n",
    "        r (float): Risk-free interest rate\n",
    "        sigma (float): Volatility of the underlying stock\n",
    "        option_type (str): Type of option, either 'call' or 'put' (default is 'call')\n",
    "\n",
    "    Returns:\n",
    "        float: Black-Scholes option price\n",
    "    \"\"\"\n",
    "    d1 = (np.log(S / K) + (r + 0.5 * sigma ** 2) * T) / (sigma * np.sqrt(T))\n",
    "    d2 = d1 - sigma * np.sqrt(T)\n",
    "\n",
    "    if option_type == 'call':\n",
    "        option_price = S * norm.cdf(d1) - K * np.exp(-r * T) * norm.cdf(d2)\n",
    "    elif option_type == 'put':\n",
    "        option_price = K * np.exp(-r * T) * norm.cdf(-d2) - S * norm.cdf(-d1)\n",
    "    else:\n",
    "        raise ValueError(\"Option type should be 'call' or 'put'.\")\n",
    "\n",
    "    return option_price"
   ]
  },
  {
   "cell_type": "code",
   "execution_count": 3,
   "metadata": {},
   "outputs": [],
   "source": [
    "# Input parameters\n",
    "S = 100     # Current stock price\n",
    "K = 100     # Strike price\n",
    "T = 1       # Time to maturity (in years)\n",
    "r = 0.05    # Risk-free interest rate\n",
    "sigma = 0.2 # Volatility of the underlying stock"
   ]
  },
  {
   "cell_type": "code",
   "execution_count": 4,
   "metadata": {},
   "outputs": [
    {
     "name": "stdout",
     "output_type": "stream",
     "text": [
      "Results saved to 'black_scholes_results.csv'\n"
     ]
    }
   ],
   "source": [
    "# Calculate option prices\n",
    "call_price = black_scholes(S, K, T, r, sigma, option_type='call')\n",
    "put_price = black_scholes(S, K, T, r, sigma, option_type='put')\n",
    "\n",
    "# Save results to output file\n",
    "output_data = {\n",
    "    'Option Type': ['Call', 'Put'],\n",
    "    'Option Price': [call_price, put_price]\n",
    "}\n",
    "\n",
    "df = pd.DataFrame(output_data)\n",
    "df.to_csv('output.csv', index=False)\n",
    "\n",
    "print(\"Results saved to 'output.csv'\")"
   ]
  }
 ],
 "metadata": {
  "kernelspec": {
   "display_name": "venv",
   "language": "python",
   "name": "python3"
  },
  "language_info": {
   "codemirror_mode": {
    "name": "ipython",
    "version": 3
   },
   "file_extension": ".py",
   "mimetype": "text/x-python",
   "name": "python",
   "nbconvert_exporter": "python",
   "pygments_lexer": "ipython3",
   "version": "3.11.4"
  }
 },
 "nbformat": 4,
 "nbformat_minor": 2
}
