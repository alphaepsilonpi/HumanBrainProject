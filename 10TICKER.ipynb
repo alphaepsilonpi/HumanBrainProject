{
 "cells": [
  {
   "cell_type": "code",
   "execution_count": 2,
   "metadata": {},
   "outputs": [
    {
     "name": "stdout",
     "output_type": "stream",
     "text": [
      "Requirement already satisfied: yfinance in d:\\forecast coe\\venv\\lib\\site-packages (0.2.28)\n",
      "Requirement already satisfied: pandas>=1.3.0 in d:\\forecast coe\\venv\\lib\\site-packages (from yfinance) (2.0.3)\n",
      "Requirement already satisfied: numpy>=1.16.5 in d:\\forecast coe\\venv\\lib\\site-packages (from yfinance) (1.25.2)\n",
      "Requirement already satisfied: requests>=2.31 in d:\\forecast coe\\venv\\lib\\site-packages (from yfinance) (2.31.0)\n",
      "Requirement already satisfied: multitasking>=0.0.7 in d:\\forecast coe\\venv\\lib\\site-packages (from yfinance) (0.0.11)\n",
      "Requirement already satisfied: lxml>=4.9.1 in d:\\forecast coe\\venv\\lib\\site-packages (from yfinance) (4.9.3)\n",
      "Requirement already satisfied: appdirs>=1.4.4 in d:\\forecast coe\\venv\\lib\\site-packages (from yfinance) (1.4.4)\n",
      "Requirement already satisfied: pytz>=2022.5 in d:\\forecast coe\\venv\\lib\\site-packages (from yfinance) (2023.3)\n",
      "Requirement already satisfied: frozendict>=2.3.4 in d:\\forecast coe\\venv\\lib\\site-packages (from yfinance) (2.3.8)\n",
      "Requirement already satisfied: beautifulsoup4>=4.11.1 in d:\\forecast coe\\venv\\lib\\site-packages (from yfinance) (4.12.2)\n",
      "Requirement already satisfied: html5lib>=1.1 in d:\\forecast coe\\venv\\lib\\site-packages (from yfinance) (1.1)\n",
      "Requirement already satisfied: soupsieve>1.2 in d:\\forecast coe\\venv\\lib\\site-packages (from beautifulsoup4>=4.11.1->yfinance) (2.4.1)\n",
      "Requirement already satisfied: six>=1.9 in d:\\forecast coe\\venv\\lib\\site-packages (from html5lib>=1.1->yfinance) (1.16.0)\n",
      "Requirement already satisfied: webencodings in d:\\forecast coe\\venv\\lib\\site-packages (from html5lib>=1.1->yfinance) (0.5.1)\n",
      "Requirement already satisfied: python-dateutil>=2.8.2 in d:\\forecast coe\\venv\\lib\\site-packages (from pandas>=1.3.0->yfinance) (2.8.2)\n",
      "Requirement already satisfied: tzdata>=2022.1 in d:\\forecast coe\\venv\\lib\\site-packages (from pandas>=1.3.0->yfinance) (2023.3)\n",
      "Requirement already satisfied: charset-normalizer<4,>=2 in d:\\forecast coe\\venv\\lib\\site-packages (from requests>=2.31->yfinance) (3.2.0)\n",
      "Requirement already satisfied: idna<4,>=2.5 in d:\\forecast coe\\venv\\lib\\site-packages (from requests>=2.31->yfinance) (3.4)\n",
      "Requirement already satisfied: urllib3<3,>=1.21.1 in d:\\forecast coe\\venv\\lib\\site-packages (from requests>=2.31->yfinance) (2.0.4)\n",
      "Requirement already satisfied: certifi>=2017.4.17 in d:\\forecast coe\\venv\\lib\\site-packages (from requests>=2.31->yfinance) (2023.7.22)\n"
     ]
    },
    {
     "name": "stderr",
     "output_type": "stream",
     "text": [
      "\n",
      "[notice] A new release of pip is available: 23.1.2 -> 24.0\n",
      "[notice] To update, run: python.exe -m pip install --upgrade pip\n"
     ]
    }
   ],
   "source": [
    "! pip install yfinance"
   ]
  },
  {
   "cell_type": "code",
   "execution_count": 1,
   "metadata": {},
   "outputs": [
    {
     "name": "stdout",
     "output_type": "stream",
     "text": [
      "TICKER: AAPL\n",
      "[*********************100%%**********************]  1 of 1 completed\n",
      "TICKER: MSFT\n",
      "[*********************100%%**********************]  1 of 1 completed\n",
      "TICKER: GOOGL\n",
      "[*********************100%%**********************]  1 of 1 completed\n",
      "TICKER: AMZN\n",
      "[*********************100%%**********************]  1 of 1 completed\n",
      "TICKER: META\n",
      "[*********************100%%**********************]  1 of 1 completed\n",
      "TICKER: TSLA\n",
      "[*********************100%%**********************]  1 of 1 completed\n",
      "TICKER: NFLX\n",
      "[*********************100%%**********************]  1 of 1 completed\n",
      "TICKER: NVDA\n",
      "[*********************100%%**********************]  1 of 1 completed\n",
      "TICKER: PYPL\n",
      "[*********************100%%**********************]  1 of 1 completed\n",
      "TICKER: INTC\n",
      "[*********************100%%**********************]  1 of 1 completed\n"
     ]
    }
   ],
   "source": [
    "import pandas as pd\n",
    "import yfinance as yf\n",
    "from sklearn.ensemble import RandomForestRegressor\n",
    "from sklearn.model_selection import train_test_split\n",
    "from sklearn.metrics import mean_squared_error\n",
    "import numpy as np\n",
    "\n",
    "def calculate_metrics(actual, predicted):\n",
    "    rmse = mean_squared_error(actual, predicted, squared=False)\n",
    "    \n",
    "    # Directional Accuracy\n",
    "    actual_diff = np.diff(actual)\n",
    "    predicted_diff = np.diff(predicted)\n",
    "    directional_accuracy = np.sum(np.sign(actual_diff) == np.sign(predicted_diff)) / len(actual_diff)\n",
    "\n",
    "    # Mean Average Percentage Error\n",
    "    mape = np.mean(np.abs((actual - predicted) / actual)) * 100\n",
    "    \n",
    "    return rmse, directional_accuracy, mape\n",
    "\n",
    "def stock_prediction(ticker):\n",
    "    # Download historical data\n",
    "    data = yf.download(ticker, start=\"2023-01-01\", end=\"2024-01-01\")\n",
    "\n",
    "    # Feature engineering\n",
    "    data['SMA_50'] = data['Close'].rolling(window=50).mean()\n",
    "    data['SMA_200'] = data['Close'].rolling(window=200).mean()\n",
    "    data['Volatility'] = data['Close'].rolling(window=50).std()\n",
    "\n",
    "    # Drop rows with missing values\n",
    "    data.dropna(inplace=True)\n",
    "\n",
    "    # Define features and target\n",
    "    X = data[['SMA_50', 'SMA_200', 'Volatility']]\n",
    "    y = data['Close']\n",
    "\n",
    "    # Split data into train and test sets\n",
    "    X_train, X_test, y_train, y_test = train_test_split(X, y, test_size=0.2, random_state=42)\n",
    "\n",
    "    # Initialize and train Random Forest Regressor\n",
    "    model = RandomForestRegressor(n_estimators=100, random_state=42)\n",
    "    model.fit(X_train, y_train)\n",
    "\n",
    "    # Make predictions\n",
    "    predictions = model.predict(X_test)\n",
    "\n",
    "    # Calculate metrics\n",
    "    rmse, directional_accuracy, mape = calculate_metrics(y_test, predictions)\n",
    "    \n",
    "    return rmse, directional_accuracy, mape\n",
    "\n",
    "# List of tickers to analyze\n",
    "tickers = ['AAPL', 'MSFT', 'GOOGL', 'AMZN', 'META', 'TSLA', 'NFLX', 'NVDA', 'PYPL', 'INTC']\n",
    "\n",
    "# Dictionary to store results\n",
    "results = {}\n",
    "\n",
    "for ticker in tickers:\n",
    "    print(f\"TICKER: {ticker}\")\n",
    "    rmse, directional_accuracy, mape = stock_prediction(ticker)\n",
    "    results[ticker] = {'RMSE': rmse, 'Directional Accuracy': directional_accuracy, 'MAPE': mape}\n",
    "\n",
    "# Convert results to DataFrame\n",
    "results_df = pd.DataFrame(results).T\n",
    "\n",
    "# Store results in a CSV file\n",
    "results_df.to_csv('stock_predictions_metrics.csv')\n"
   ]
  },
  {
   "cell_type": "code",
   "execution_count": null,
   "metadata": {},
   "outputs": [],
   "source": []
  }
 ],
 "metadata": {
  "kernelspec": {
   "display_name": "venv",
   "language": "python",
   "name": "python3"
  },
  "language_info": {
   "codemirror_mode": {
    "name": "ipython",
    "version": 3
   },
   "file_extension": ".py",
   "mimetype": "text/x-python",
   "name": "python",
   "nbconvert_exporter": "python",
   "pygments_lexer": "ipython3",
   "version": "3.11.4"
  }
 },
 "nbformat": 4,
 "nbformat_minor": 2
}
